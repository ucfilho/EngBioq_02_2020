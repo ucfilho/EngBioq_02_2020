{
  "nbformat": 4,
  "nbformat_minor": 0,
  "metadata": {
    "colab": {
      "name": "Reator_Potencia_Dimencoes_ago_14_2020.ipynb",
      "provenance": [],
      "authorship_tag": "ABX9TyPcduWV7O+WEzlxNzXwysTQ",
      "include_colab_link": true
    },
    "kernelspec": {
      "name": "python3",
      "display_name": "Python 3"
    }
  },
  "cells": [
    {
      "cell_type": "markdown",
      "metadata": {
        "id": "view-in-github",
        "colab_type": "text"
      },
      "source": [
        "<a href=\"https://colab.research.google.com/github/ucfilho/EngBioq_02_2020/blob/master/Reator_Potencia_Dimencoes_ago_14_2020.ipynb\" target=\"_parent\"><img src=\"https://colab.research.google.com/assets/colab-badge.svg\" alt=\"Open In Colab\"/></a>"
      ]
    },
    {
      "cell_type": "code",
      "metadata": {
        "id": "qzlS_6OM4vTd",
        "colab_type": "code",
        "colab": {}
      },
      "source": [
        "import numpy as np"
      ],
      "execution_count": 1,
      "outputs": []
    },
    {
      "cell_type": "code",
      "metadata": {
        "id": "godPLRLj5Xej",
        "colab_type": "code",
        "colab": {}
      },
      "source": [
        "PI=np.pi"
      ],
      "execution_count": 2,
      "outputs": []
    },
    {
      "cell_type": "code",
      "metadata": {
        "id": "AUmAMSvI5bWe",
        "colab_type": "code",
        "colab": {}
      },
      "source": [
        "Np=1.27 # agitador 3PBT45\n",
        "Nrps=200/60 # 200 rpm =200/60 rps\n",
        "ro=1000 # kg/m3\n",
        "MI=1e-3 # kg/m.s  Pa.s"
      ],
      "execution_count": 3,
      "outputs": []
    },
    {
      "cell_type": "code",
      "metadata": {
        "id": "2qJxqv_h6NAf",
        "colab_type": "code",
        "colab": {}
      },
      "source": [
        "Vol=800 # m3\n",
        "# Vol=PI*D**3/4\n",
        "D=(4*Vol/PI)**(1/3)\n",
        "Di=D/3\n",
        "Wb=D/10\n",
        "HL=D"
      ],
      "execution_count": 4,
      "outputs": []
    },
    {
      "cell_type": "code",
      "metadata": {
        "id": "HQwoUv4c7a-A",
        "colab_type": "code",
        "colab": {
          "base_uri": "https://localhost:8080/",
          "height": 90
        },
        "outputId": "ad5e7ae8-39a3-456d-d41a-2e59bc0de7cf"
      },
      "source": [
        "print('Diametro do reator (m)=',D)\n",
        "print('Diametro do agitador (m)=',Di)\n",
        "print('Altura de liquido no reator (m)=',HL)\n",
        "print('Largura da chicana ou defletores (m)',Wb)"
      ],
      "execution_count": 6,
      "outputs": [
        {
          "output_type": "stream",
          "text": [
            "Diametro do reator (m)= 10.061591983208716\n",
            "Diametro do agitador (m)= 3.3538639944029054\n",
            "Altura de liquido no reator (m)= 10.061591983208716\n",
            "Largura da chicana ou defletores (m) 1.0061591983208715\n"
          ],
          "name": "stdout"
        }
      ]
    },
    {
      "cell_type": "code",
      "metadata": {
        "id": "EDiBqzGE8M5o",
        "colab_type": "code",
        "colab": {}
      },
      "source": [
        "Pot=Np*ro*Di**5*Nrps**3\n",
        "Re=ro*Di**2*Nrps/MI\n",
        "fs=1.2\n",
        "Torque=Pot/(2*PI*Nrps)\n",
        "Pmot=Pot*fs"
      ],
      "execution_count": 9,
      "outputs": []
    },
    {
      "cell_type": "code",
      "metadata": {
        "id": "5VBj88vY855C",
        "colab_type": "code",
        "colab": {
          "base_uri": "https://localhost:8080/",
          "height": 90
        },
        "outputId": "cc7378e1-8929-4b72-a536-971571401727"
      },
      "source": [
        "print('Potencia transferida para o liquido (W)',Pot)\n",
        "print('Numero de Reynolds',Re)\n",
        "print('Potencia do motor (W)',Pmot)\n",
        "print('Torque (N.m)',Torque)"
      ],
      "execution_count": 10,
      "outputs": [
        {
          "output_type": "stream",
          "text": [
            "Potencia transferida para o liquido (W) 19960305.892131664\n",
            "Numero de Reynolds 37494678.97650737\n",
            "Potencia do motor (W) 23952367.070557997\n",
            "Torque (N.m) 953034.4045077114\n"
          ],
          "name": "stdout"
        }
      ]
    },
    {
      "cell_type": "code",
      "metadata": {
        "id": "mQPGmVJb9-_2",
        "colab_type": "code",
        "colab": {
          "base_uri": "https://localhost:8080/",
          "height": 35
        },
        "outputId": "b9d15ef1-e837-46f0-e51b-810f5dea9685"
      },
      "source": [
        "Pmot_HP=Pmot/746\n",
        "print('Potencia do motor (HP)=',Pmot_HP)"
      ],
      "execution_count": 11,
      "outputs": [
        {
          "output_type": "stream",
          "text": [
            "Potencia do motor (HP)= 32107.730657584445\n"
          ],
          "name": "stdout"
        }
      ]
    }
  ]
}